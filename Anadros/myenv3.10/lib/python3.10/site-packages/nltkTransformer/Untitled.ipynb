{
 "cells": [
  {
   "cell_type": "code",
   "execution_count": 1,
   "metadata": {},
   "outputs": [],
   "source": [
    "import mlflow"
   ]
  },
  {
   "cell_type": "code",
   "execution_count": 2,
   "metadata": {},
   "outputs": [],
   "source": [
    "import mlflow.spark"
   ]
  },
  {
   "cell_type": "code",
   "execution_count": 3,
   "metadata": {},
   "outputs": [
    {
     "name": "stderr",
     "output_type": "stream",
     "text": [
      "2020/05/29 19:55:47 INFO mlflow.spark: File '../nlp/sparkml' is already on DFS, copy is not necessary.\n"
     ]
    },
    {
     "data": {
      "text/plain": [
       "PipelineModel_267f24dc0071"
      ]
     },
     "execution_count": 3,
     "metadata": {},
     "output_type": "execute_result"
    }
   ],
   "source": [
    "mlflow.spark.load_model(\"../nlp\")"
   ]
  },
  {
   "cell_type": "code",
   "execution_count": 12,
   "metadata": {},
   "outputs": [],
   "source": [
    "from nltkTransformer import read_model"
   ]
  },
  {
   "cell_type": "code",
   "execution_count": 7,
   "metadata": {},
   "outputs": [
    {
     "name": "stdout",
     "output_type": "stream",
     "text": [
      "Collecting nltkTransformer==0.0.4\n",
      "  Downloading nltkTransformer-0.0.4-py3-none-any.whl (8.8 kB)\n",
      "Installing collected packages: nltkTransformer\n",
      "  Attempting uninstall: nltkTransformer\n",
      "    Found existing installation: nltkTransformer 0.0.3\n",
      "    Uninstalling nltkTransformer-0.0.3:\n",
      "      Successfully uninstalled nltkTransformer-0.0.3\n",
      "Successfully installed nltkTransformer-0.0.4\n"
     ]
    }
   ],
   "source": [
    "import sys\n",
    "!{sys.executable} -m pip install nltkTransformer==0.0.4"
   ]
  },
  {
   "cell_type": "code",
   "execution_count": 13,
   "metadata": {},
   "outputs": [
    {
     "name": "stderr",
     "output_type": "stream",
     "text": [
      "2020/05/29 20:06:34 INFO mlflow.spark: File '../nlp/sparkml' is already on DFS, copy is not necessary.\n"
     ]
    },
    {
     "data": {
      "text/plain": [
       "PipelineModel_267f24dc0071"
      ]
     },
     "execution_count": 13,
     "metadata": {},
     "output_type": "execute_result"
    }
   ],
   "source": [
    "read_model.read_pyspark_model()"
   ]
  },
  {
   "cell_type": "code",
   "execution_count": null,
   "metadata": {},
   "outputs": [],
   "source": []
  }
 ],
 "metadata": {
  "kernelspec": {
   "display_name": "Python 3.6.9 64-bit ('azurefunc': conda)",
   "language": "python",
   "name": "python36964bitazurefuncconda98485e903cca45c799eb1da80095bd5b"
  },
  "language_info": {
   "codemirror_mode": {
    "name": "ipython",
    "version": 3
   },
   "file_extension": ".py",
   "mimetype": "text/x-python",
   "name": "python",
   "nbconvert_exporter": "python",
   "pygments_lexer": "ipython3",
   "version": "3.7.3"
  }
 },
 "nbformat": 4,
 "nbformat_minor": 4
}
